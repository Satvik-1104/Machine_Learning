{
 "cells": [
  {
   "cell_type": "markdown",
   "id": "fb9ad15e-619d-4f5e-b3f0-729c7a377ae4",
   "metadata": {},
   "source": [
    "# Migration Prediction Using Machine Learning"
   ]
  },
  {
   "cell_type": "markdown",
   "id": "7cf9b5ef-1dd4-47f8-85b3-fd96dc3b659b",
   "metadata": {},
   "source": [
    "#### Global Migration Patterns"
   ]
  },
  {
   "cell_type": "markdown",
   "id": "bfecd952-4048-44cc-ae50-90f3c6ae9bb3",
   "metadata": {},
   "source": [
    "Migration involves the movement of people from one region to another, often with the aim of establishing a new residence, either for a temporary period or on a permanent basis. This process can take place on an individual level, within families, or among large groups, and frequently includes crossing international borders. Recent estimates from the World Economic Forum indicate that there are over 281 million people living outside their countries of origin, comprising about 3.6% of the global population. While this figure may appear modest, it has already surpassed some of the projections set for 2050. In 2022 alone, international remittances from migrants reached approximately $831 billion, reflecting the economic impact and active contributions that migrants bring to their host countries. Since 1950, the number of international migrants has seen a threefold increase, highlighting the growing scale of global movement."
   ]
  },
  {
   "cell_type": "markdown",
   "id": "2df06d72-5110-4fd6-a6b3-55421755ac25",
   "metadata": {},
   "source": [
    "#### Key Drivers of MIGRATION"
   ]
  },
  {
   "cell_type": "markdown",
   "id": "ced3e713-64a6-4ca1-8f4b-c21a701418fd",
   "metadata": {},
   "source": [
    "The reasons behind human migration are complex and varied. Broadly, migration can be categorized into four main types:\n",
    "\n",
    "1. Economic Migration: People often migrate in search of better employment oppurtunities to improve their standard of living.\n",
    "2. Social Migration: Relocation can also be motivated by the desire to live closer to family and friends or to experience a higher quality of life in a different region.\n",
    "3. Political Migration: In some cases, individuals or groups move to escape political instability, war, or persecution in their home countries.\n",
    "4. Environmental Migration: Natural disasters such as floods, droughts, or earthquakes can force people to leave their homes in search of safer or more stable environments."
   ]
  },
  {
   "cell_type": "markdown",
   "id": "3f65e34e-1b8c-470a-b03d-901c50a24f23",
   "metadata": {},
   "source": [
    "#### Forecasting Future Migration Patterns"
   ]
  },
  {
   "cell_type": "markdown",
   "id": "789a0513-6567-4ff4-a027-d3f6e1a4a704",
   "metadata": {},
   "source": [
    "Anticipating future migration trends is crucial for various sectors, including urban development, public health, and international trade. There are several approaches to predicting migration patterns:\n",
    "1. Early Detection Systems: These systems combine quantitative and qualitative data to monitor shifts in migration trends and predict movements in short term. They help authorities take prompt actions when certain migration thresholds are met.\n",
    "2. Statistical Forecasting: This method relies on data analysis to predict long-term migration trends by using past migration data, policy changes, and economic conditions as input. It is an essential tool for understanding how migration flows might evolve based on historical patterns.\n",
    "3. Scenario Planning: Scenario-based approaches use quantitative methods tp explore a range of potential future outcomes. By considering differnet \"what-if\" scenarios, this method allows experts to visualize various migration paths based on changes in political, environmental, or economic conditions.\n",
    "\n",
    "These methods provide valuable insights that help governments, organizations, and planners better understand and prepare for the potential effects of migration on their societies and economies."
   ]
  },
  {
   "cell_type": "markdown",
   "id": "25921a53-ebf0-441b-9823-7b4df0123d19",
   "metadata": {},
   "source": [
    "#### Types of Migration Predictors"
   ]
  },
  {
   "cell_type": "markdown",
   "id": "1d7283e4-f199-42ac-bf46-90e332415f99",
   "metadata": {},
   "source": [
    "1. Given the in and out migrants for a specific country over the years, predict the net migrants for the next year.\n",
    "2. Given the total migrants of a country to outside, predict the destination country.\n",
    "3. Given the individuals' data of a country, predict whether the individual will migrate or not.\n",
    "4. Given historical migration patterns, predict future migration trends for specific regions.\n",
    "5. Given demographic and socioeconomic factors, predict the likelihood of migration for different citizenships.\n",
    "6. Given the migration policy changes, analyze their impact on migration flows in the following year.\n",
    "7. Given the economic indicators of a country, predict the potential for increased or decreased migration.\n",
    "\n",
    "I chose the Predictor similar to the first type and I used the migration of New Zealand.\n",
    "I chose the model based on the Dataset available.\n",
    "The working of the code has also been described below in the 'Working of the Code' section."
   ]
  },
  {
   "cell_type": "markdown",
   "id": "3129bf1d-981c-440e-af2d-060e09289e33",
   "metadata": {},
   "source": [
    "This project will attempt to predict human migration between different countries. The following steps will be performed using Machine Learning and Python."
   ]
  },
  {
   "cell_type": "markdown",
   "id": "9daa1dcb-4576-4976-a890-938b6a83479e",
   "metadata": {},
   "source": [
    "##### Roadmap"
   ]
  },
  {
   "cell_type": "markdown",
   "id": "d5a9f3ea-ce55-4fde-aae0-6c25dddec76f",
   "metadata": {},
   "source": [
    "1. Import the required libraries\n",
    "2. Import the dataset\n",
    "3. Data Preprocessing\n",
    "4. Splitting the dataset into training and testing\n",
    "5. Train the model on the training set\n",
    "6. Making predictions on the test set\n",
    "7. Evaluate the model's performance\n",
    "8. Draw conclusions from the evaluation"
   ]
  },
  {
   "cell_type": "markdown",
   "id": "1d46aa05-c0fe-4bfe-aaea-f19acde6cbb7",
   "metadata": {},
   "source": [
    "##### The Objective"
   ]
  },
  {
   "cell_type": "markdown",
   "id": "97ac5675-e6b3-4c93-8a6d-397b167d3c09",
   "metadata": {},
   "source": [
    "To predict human migration between different countries in future time periods."
   ]
  },
  {
   "cell_type": "markdown",
   "id": "893202f9-0beb-48ab-a2de-209974a87678",
   "metadata": {},
   "source": [
    "#### Working of the Code"
   ]
  },
  {
   "cell_type": "markdown",
   "id": "3cb358da-74cd-4904-bc13-505e1beb871c",
   "metadata": {},
   "source": [
    "Takes the following as inputs:\n",
    "1. Measure: 'Arrival' / 'Departure' / 'Net'\n",
    "2. Country: 'A_Country_name' / 'Not Stated'  / 'All countries'\n",
    "3. Citizenship: 'New Zealand Citizen', 'Australian Citizen', 'Total All Citizenships'\n",
    "4. Year: Year of Arrival or departure\n",
    "\n",
    "According to the give input, it outputs the number of migrants of that type"
   ]
  },
  {
   "cell_type": "markdown",
   "id": "c6256462-64c9-456c-8fc0-82a675e7afbe",
   "metadata": {},
   "source": [
    "#### Import the required libraries"
   ]
  },
  {
   "cell_type": "code",
   "execution_count": 1,
   "id": "9dbc1b42-de2e-4d6b-a767-965b47a427e4",
   "metadata": {},
   "outputs": [],
   "source": [
    "# Importing Libraries\n",
    "import pandas as pd\n",
    "import seaborn as sns\n",
    "import matplotlib.pyplot as plt\n",
    "import numpy as np\n",
    "from sklearn.model_selection import train_test_split, cross_val_score, GridSearchCV\n",
    "from sklearn.metrics import mean_squared_error\n",
    "from sklearn.ensemble import RandomForestRegressor\n",
    "import tkinter as tk\n",
    "from tkinter import messagebox, font"
   ]
  },
  {
   "cell_type": "markdown",
   "id": "e990e3ac-9f77-4352-89e6-60abf0a1ae75",
   "metadata": {},
   "source": [
    "####\n",
    "#### Import the dataset"
   ]
  },
  {
   "cell_type": "code",
   "execution_count": 2,
   "id": "ae16be1b-4fb3-4b54-b378-506dd60ff01e",
   "metadata": {},
   "outputs": [],
   "source": [
    "# Loading the Dataset\n",
    "data = pd.read_csv('migration_nz.csv')"
   ]
  },
  {
   "cell_type": "markdown",
   "id": "dccefa27-9748-4332-81da-2e37a4d2e9d9",
   "metadata": {},
   "source": [
    "####\n",
    "#### Data preprocessing"
   ]
  },
  {
   "cell_type": "markdown",
   "id": "bff8c8d8-39ee-4630-be0d-8c5ad04b231b",
   "metadata": {},
   "source": [
    "In this migration prediction model, several preprocessing steps were applied to prepare the data for effective machine learning. First, missing values in the \"Value\" column were replaced with the median of the column to address any gaps in the dataset. The \"Measure\" column, which contained categorical data (\"Arrivals,\" \"Departures,\" and \"Net\"), was transformed into numeric values (0, 1, and 2) for model compatibility. Similarly, the \"Citizenship\" column was encoded into integers representing different citizenship statuses (\"New Zealand Citizen,\" \"Australian Citizen,\" and \"Total All Citizenships\") for uniformity. The \"Country\" column, which contains various country names, was also factorized into unique numeric values to simplify its representation. Finally, the dataset was split into feature (X) and target (y) variables, setting the stage for model training and testing."
   ]
  },
  {
   "cell_type": "code",
   "execution_count": 3,
   "id": "b03aa86b-a6ac-4a23-971d-ddba39b66a42",
   "metadata": {},
   "outputs": [
    {
     "name": "stdout",
     "output_type": "stream",
     "text": [
      "    Measure     Country             Citizenship  Year    Value\n",
      "0  Arrivals     Oceania     New Zealand Citizen  1979  11817.0\n",
      "1  Arrivals     Oceania      Australian Citizen  1979   4436.0\n",
      "2  Arrivals     Oceania  Total All Citizenships  1979  19965.0\n",
      "3  Arrivals  Antarctica     New Zealand Citizen  1979     10.0\n",
      "4  Arrivals  Antarctica      Australian Citizen  1979      0.0\n"
     ]
    }
   ],
   "source": [
    "# Dataset Head\n",
    "print(data.head())"
   ]
  },
  {
   "cell_type": "code",
   "execution_count": 4,
   "id": "427cf576-743b-446d-8a54-af9c8e33c1f2",
   "metadata": {},
   "outputs": [
    {
     "name": "stdout",
     "output_type": "stream",
     "text": [
      "<class 'pandas.core.frame.DataFrame'>\n",
      "RangeIndex: 86526 entries, 0 to 86525\n",
      "Data columns (total 5 columns):\n",
      " #   Column       Non-Null Count  Dtype  \n",
      "---  ------       --------------  -----  \n",
      " 0   Measure      86526 non-null  object \n",
      " 1   Country      86526 non-null  object \n",
      " 2   Citizenship  86526 non-null  object \n",
      " 3   Year         86526 non-null  int64  \n",
      " 4   Value        86454 non-null  float64\n",
      "dtypes: float64(1), int64(1), object(3)\n",
      "memory usage: 3.3+ MB\n",
      "None\n"
     ]
    }
   ],
   "source": [
    "# data info\n",
    "print(data.info())"
   ]
  },
  {
   "cell_type": "markdown",
   "id": "debb9bda-33ec-4a35-abc0-3381584f7c37",
   "metadata": {},
   "source": [
    "##### Checking for Missing Values in the data"
   ]
  },
  {
   "cell_type": "code",
   "execution_count": 5,
   "id": "7aeace97-b5ef-4df7-84d3-3662237a8e57",
   "metadata": {},
   "outputs": [
    {
     "name": "stdout",
     "output_type": "stream",
     "text": [
      "Measure         0\n",
      "Country         0\n",
      "Citizenship     0\n",
      "Year            0\n",
      "Value          72\n",
      "dtype: int64\n"
     ]
    }
   ],
   "source": [
    "print(data.isna().sum())"
   ]
  },
  {
   "cell_type": "markdown",
   "id": "4bc69aa1-e20b-4dd8-9749-94609b0508ef",
   "metadata": {},
   "source": [
    "####\n",
    "##### Preprocessing the Values column\n",
    "Replacing the 72 missing or null values with the median."
   ]
  },
  {
   "cell_type": "code",
   "execution_count": 6,
   "id": "453d5b76-9ac7-4ffe-80f9-2f58c712446d",
   "metadata": {},
   "outputs": [],
   "source": [
    "# Replacing the null values with the median of the 'values' column\n",
    "data.fillna({\"Value\": data[\"Value\"].median()},inplace=True)"
   ]
  },
  {
   "cell_type": "markdown",
   "id": "f04a70e1-5376-4c2a-8b86-fbbde39e7a72",
   "metadata": {},
   "source": [
    "Verifying again if any null or missing values are left"
   ]
  },
  {
   "cell_type": "code",
   "execution_count": 7,
   "id": "53fbb080-31cd-4116-bd19-49878e5a349d",
   "metadata": {},
   "outputs": [
    {
     "name": "stdout",
     "output_type": "stream",
     "text": [
      "Measure        0\n",
      "Country        0\n",
      "Citizenship    0\n",
      "Year           0\n",
      "Value          0\n",
      "dtype: int64\n"
     ]
    }
   ],
   "source": [
    "# Checking for Missing Values in the data\n",
    "print(data.isna().sum())"
   ]
  },
  {
   "cell_type": "markdown",
   "id": "c2a9a0c2-e051-4f2e-8258-6f14d144ed17",
   "metadata": {},
   "source": [
    "##### Managing Categorical Data"
   ]
  },
  {
   "cell_type": "code",
   "execution_count": 8,
   "id": "ecc42a0c-45be-4601-a2a9-78fa6ff6a73f",
   "metadata": {},
   "outputs": [
    {
     "name": "stdout",
     "output_type": "stream",
     "text": [
      "['Arrivals' 'Departures' 'Net']\n"
     ]
    }
   ],
   "source": [
    "# Checking for Unique values of Measure column\n",
    "print(data['Measure'].unique())  # Output: ['Arrivals' 'Departures' 'Net']"
   ]
  },
  {
   "cell_type": "markdown",
   "id": "5731a483-1c4d-4f8c-8010-47f26a5128eb",
   "metadata": {},
   "source": [
    "####\n",
    "We need to convert the categorical data into numerical data for running the Machine Learning model."
   ]
  },
  {
   "cell_type": "code",
   "execution_count": 9,
   "id": "5281ecd5-6467-4a6e-a5eb-3ee6aa6765b5",
   "metadata": {},
   "outputs": [],
   "source": [
    "# Changing the 3 unique values of the Measure column to integers\n",
    "pd.set_option('future.no_silent_downcasting', True)\n",
    "\n",
    "data['Measure'] = data['Measure'].replace({\"Arrivals\": 0, \"Departures\": 1, \"Net\": 2})"
   ]
  },
  {
   "cell_type": "code",
   "execution_count": 10,
   "id": "bcfec560-41cb-4c3d-b94f-c1b57af1b6e1",
   "metadata": {},
   "outputs": [
    {
     "name": "stdout",
     "output_type": "stream",
     "text": [
      "[0 1 2]\n"
     ]
    }
   ],
   "source": [
    "# Checking unique values again\n",
    "print(data['Measure'].unique())  # This should now print: [0 1 2]"
   ]
  },
  {
   "cell_type": "code",
   "execution_count": 11,
   "id": "d2d9bbe3-e97b-46c3-9fb5-194652c64095",
   "metadata": {},
   "outputs": [
    {
     "name": "stdout",
     "output_type": "stream",
     "text": [
      "['Oceania' 'Antarctica' 'American Samoa' 'Australia' 'Cocos Islands'\n",
      " 'Cook Islands' 'Christmas Island' 'Fiji' 'Micronesia' 'Guam' 'Kiribati'\n",
      " 'Marshall Islands' 'Northern Mariana Islands' 'New Caledonia'\n",
      " 'Norfolk Island' 'Nauru' 'Niue' 'New Zealand' 'French Polynesia'\n",
      " 'Papua New Guinea' 'Pitcairn Island' 'Palau' 'Solomon Islands'\n",
      " 'French Southern Territories' 'Tokelau' 'Tonga' 'Tuvalu' 'Vanuatu'\n",
      " 'Wallis and Futuna' 'Samoa' 'Asia' 'Afghanistan' 'Armenia' 'Azerbaijan'\n",
      " 'Bangladesh' 'Brunei Darussalam' 'Bhutan' 'China' 'Georgia' 'Hong Kong'\n",
      " 'Indonesia' 'India' 'Japan' 'Kyrgyzstan' 'Cambodia' 'North Korea'\n",
      " 'South Korea' 'Kazakhstan' 'Laos' 'Sri Lanka' 'Myanmar' 'Mongolia'\n",
      " 'Macau' 'Maldives' 'Malaysia' 'Nepal' 'Philippines' 'Pakistan'\n",
      " 'Singapore' 'Thailand' 'Tajikistan' 'Timor-Leste' 'Turkmenistan' 'Taiwan'\n",
      " 'Uzbekistan' 'Vietnam' 'Europe' 'Andorra' 'Albania' 'Austria'\n",
      " 'Bosnia and Herzegovina' 'Belgium' 'Bulgaria' 'Belarus' 'Switzerland'\n",
      " 'Czechoslovakia' 'Cyprus' 'Czechia' 'East Germany' 'Germany' 'Denmark'\n",
      " 'Estonia' 'Spain' 'Finland' 'Faeroe Islands' 'France' 'UK' 'Gibraltar'\n",
      " 'Greenland' 'Greece' 'Croatia' 'Hungary' 'Ireland' 'Iceland' 'Italy'\n",
      " 'Kosovo' 'Liechtenstein' 'Lithuania' 'Luxembourg' 'Latvia' 'Monaco'\n",
      " 'Moldova' 'Montenegro' 'Macedonia' 'Malta' 'Netherlands' 'Norway'\n",
      " 'Poland' 'Portugal' 'Romania' 'Serbia' 'Russia' 'Sweden' 'Slovenia'\n",
      " 'Slovakia' 'San Marino' 'USSR' 'Ukraine' 'Vatican City'\n",
      " 'Yugoslavia/Serbia and Montenegro' 'Americas' 'Antigua and Barbuda'\n",
      " 'Anguilla' 'Netherlands Antilles' 'Argentina' 'Aruba' 'Barbados'\n",
      " 'Bermuda' 'Bolivia' 'Brazil' 'Bahamas' 'Belize' 'Canada' 'Chile'\n",
      " 'Colombia' 'Costa Rica' 'Cuba' 'Curacao' 'Dominica' 'Dominican Republic'\n",
      " 'Ecuador' 'Falkland Islands' 'Grenada' 'French Guiana' 'Guadeloupe'\n",
      " 'South Georgia and the South Sandwich Islands' 'Guatemala' 'Guyana'\n",
      " 'Honduras' 'Haiti' 'Jamaica' 'St Kitts and Nevis' 'Cayman Islands'\n",
      " 'St Lucia' 'Martinique' 'Montserrat' 'Mexico' 'Nicaragua' 'Panama' 'Peru'\n",
      " 'St Pierre and Miquelon' 'Puerto Rico' 'Paraguay' 'Suriname'\n",
      " 'El Salvador' 'St Maarten' 'Turks and Caicos' 'Trinidad and Tobago'\n",
      " 'US Minor Outlying Islands' 'USA' 'Uruguay'\n",
      " 'St Vincent and the Grenadines' 'Venezuela' 'British Virgin Islands'\n",
      " 'US Virgin Islands' 'Africa and the Middle East' 'UAE' 'Angola'\n",
      " 'Burkina Faso' 'Bahrain' 'Burundi' 'Benin' 'Botswana'\n",
      " 'Democratic Republic of the Congo' 'Central African Republic' 'Congo'\n",
      " \"Cote d'Ivoire\" 'Cameroon' 'Cape Verde' 'Djibouti' 'Algeria' 'Egypt'\n",
      " 'Western Sahara' 'Eritrea' 'Ethiopia' 'Gabon' 'Ghana' 'Gambia' 'Guinea'\n",
      " 'Equatorial Guinea' 'Guinea-Bissau' 'Israel'\n",
      " 'British Indian Ocean Territory' 'Iraq' 'Iran' 'Jordan' 'Kenya' 'Comoros'\n",
      " 'Kuwait' 'Lebanon' 'Liberia' 'Lesotho' 'Libya' 'Morocco' 'Madagascar'\n",
      " 'Mali' 'Mauritania' 'Mauritius' 'Malawi' 'Mozambique' 'Namibia' 'Niger'\n",
      " 'Nigeria' 'Oman' 'Palestine' 'Qatar' 'Reunion' 'Rwanda' 'Saudi Arabia'\n",
      " 'Seychelles' 'Sudan' 'St Helena' 'Sierra Leone' 'Senegal' 'Somalia'\n",
      " 'South Sudan' 'Sao Tome and Principe' 'Syria' 'Swaziland' 'Chad' 'Togo'\n",
      " 'Tunisia' 'Turkey' 'Tanzania' 'Uganda' 'South Yemen' 'Yemen' 'Mayotte'\n",
      " 'South Africa' 'Zambia' 'Zimbabwe' 'Not stated' 'All countries']\n"
     ]
    }
   ],
   "source": [
    "# Printing the unique Countries\n",
    "print(data['Country'].unique())"
   ]
  },
  {
   "cell_type": "code",
   "execution_count": 12,
   "id": "905bfe50-4151-4874-9a33-0c30ab52916f",
   "metadata": {},
   "outputs": [],
   "source": [
    "# Transforming countries into numbers\n",
    "data['Country'] = pd.factorize(data.Country)[0]"
   ]
  },
  {
   "cell_type": "code",
   "execution_count": 13,
   "id": "a899e935-127e-4c4a-b6a7-07d7755cb236",
   "metadata": {},
   "outputs": [
    {
     "name": "stdout",
     "output_type": "stream",
     "text": [
      "[  0   1   2   3   4   5   6   7   8   9  10  11  12  13  14  15  16  17\n",
      "  18  19  20  21  22  23  24  25  26  27  28  29  30  31  32  33  34  35\n",
      "  36  37  38  39  40  41  42  43  44  45  46  47  48  49  50  51  52  53\n",
      "  54  55  56  57  58  59  60  61  62  63  64  65  66  67  68  69  70  71\n",
      "  72  73  74  75  76  77  78  79  80  81  82  83  84  85  86  87  88  89\n",
      "  90  91  92  93  94  95  96  97  98  99 100 101 102 103 104 105 106 107\n",
      " 108 109 110 111 112 113 114 115 116 117 118 119 120 121 122 123 124 125\n",
      " 126 127 128 129 130 131 132 133 134 135 136 137 138 139 140 141 142 143\n",
      " 144 145 146 147 148 149 150 151 152 153 154 155 156 157 158 159 160 161\n",
      " 162 163 164 165 166 167 168 169 170 171 172 173 174 175 176 177 178 179\n",
      " 180 181 182 183 184 185 186 187 188 189 190 191 192 193 194 195 196 197\n",
      " 198 199 200 201 202 203 204 205 206 207 208 209 210 211 212 213 214 215\n",
      " 216 217 218 219 220 221 222 223 224 225 226 227 228 229 230 231 232 233\n",
      " 234 235 236 237 238 239 240 241 242 243 244 245 246 247 248 249 250 251\n",
      " 252]\n"
     ]
    }
   ],
   "source": [
    "# Printing unique values of countries after factorization\n",
    "print(data['Country'].unique())"
   ]
  },
  {
   "cell_type": "code",
   "execution_count": 14,
   "id": "98e82ef1-8752-4cc6-97b3-7fc5055b9bbc",
   "metadata": {},
   "outputs": [
    {
     "name": "stdout",
     "output_type": "stream",
     "text": [
      "['New Zealand Citizen' 'Australian Citizen' 'Total All Citizenships']\n"
     ]
    }
   ],
   "source": [
    "# Checking for unique values in Citizenship column\n",
    "print(data['Citizenship'].unique())"
   ]
  },
  {
   "cell_type": "code",
   "execution_count": 15,
   "id": "87837c9e-002e-47ba-9609-6c69fde492a1",
   "metadata": {},
   "outputs": [],
   "source": [
    "# Replacing these 3 unique values with integers\n",
    "data['Citizenship'] = data['Citizenship'].replace({\"New Zealand Citizen\": 0, \"Australian Citizen\": 1, \"Total All Citizenships\": 2})"
   ]
  },
  {
   "cell_type": "code",
   "execution_count": 16,
   "id": "48c31623-8a83-4051-8955-04f9a72600cb",
   "metadata": {},
   "outputs": [
    {
     "name": "stdout",
     "output_type": "stream",
     "text": [
      "[0 1 2]\n"
     ]
    }
   ],
   "source": [
    "# Checking for unique values in Citizenship column\n",
    "print(data['Citizenship'].unique())"
   ]
  },
  {
   "cell_type": "markdown",
   "id": "6e78ad40-33f1-4e5d-9147-23cfa516440f",
   "metadata": {},
   "source": [
    "The Preprocessing work is done\n",
    "1. We adjusted the Missing values\n",
    "2. And also managed the Categorical data that we had"
   ]
  },
  {
   "cell_type": "markdown",
   "id": "9d300825-d123-4f21-81d3-3de9d05fa901",
   "metadata": {},
   "source": [
    "####\n",
    "#### After Preprocessing"
   ]
  },
  {
   "cell_type": "markdown",
   "id": "8f6b20ca-aa26-4964-907e-71ac6e288034",
   "metadata": {},
   "source": [
    "Visualizing the Correlation between Variables"
   ]
  },
  {
   "cell_type": "code",
   "execution_count": 17,
   "id": "b85ef589-f17c-4cac-b2f5-fc12191f09b8",
   "metadata": {},
   "outputs": [
    {
     "data": {
      "image/png": "[encoded data removed]",
      "text/plain": [
       "<Figure size 900x500 with 2 Axes>"
      ]
     },
     "metadata": {},
     "output_type": "display_data"
    }
   ],
   "source": [
    "# Checking the Correlation between Variables\n",
    "plt.figure(figsize = (9, 5))\n",
    "corr = data.corr()\n",
    "sns.heatmap(corr, annot = True, cmap = 'Blues')\n",
    "plt.show()"
   ]
  },
  {
   "cell_type": "markdown",
   "id": "739ac6ce-0254-4375-a20e-b15e9f6a29e6",
   "metadata": {},
   "source": [
    "####\n",
    "#### Splitting the dataset into training and testing"
   ]
  },
  {
   "cell_type": "code",
   "execution_count": 18,
   "id": "780b683b-8f99-450e-bf88-fe453e689b46",
   "metadata": {},
   "outputs": [],
   "source": [
    "# Splitting the data into X and Y\n",
    "x_data = data[['Country', 'Measure', 'Year', 'Citizenship']]\n",
    "y_data = data['Value']"
   ]
  },
  {
   "cell_type": "markdown",
   "id": "9cc110ca-b114-4466-9854-996a735068d2",
   "metadata": {},
   "source": [
    "####\n",
    "#### Checking the train and test splits, so that "
   ]
  },
  {
   "cell_type": "code",
   "execution_count": 19,
   "id": "7c486947-684c-45af-bb89-164e703abdf7",
   "metadata": {},
   "outputs": [
    {
     "name": "stdout",
     "output_type": "stream",
     "text": [
      "   Country Measure  Year Citizenship\n",
      "0        0       0  1979           0\n",
      "1        0       0  1979           1\n",
      "2        0       0  1979           2\n",
      "3        1       0  1979           0\n",
      "4        1       0  1979           1\n"
     ]
    }
   ],
   "source": [
    "# X_data\n",
    "print(x_data.head())"
   ]
  },
  {
   "cell_type": "code",
   "execution_count": 20,
   "id": "65d1f8d2-f518-4bd2-b758-8d7f58444596",
   "metadata": {},
   "outputs": [
    {
     "name": "stdout",
     "output_type": "stream",
     "text": [
      "0    11817.0\n",
      "1     4436.0\n",
      "2    19965.0\n",
      "3       10.0\n",
      "4        0.0\n",
      "Name: Value, dtype: float64\n"
     ]
    }
   ],
   "source": [
    "# Y_data\n",
    "print(y_data.head())"
   ]
  },
  {
   "cell_type": "markdown",
   "id": "5f13570c-c868-4cda-a8c8-c47fdf70171a",
   "metadata": {},
   "source": [
    "####\n",
    "Using 70% of the data for training and 30% for testing"
   ]
  },
  {
   "cell_type": "code",
   "execution_count": 21,
   "id": "f2c3ff4b-94ac-49ec-9e52-7075a6c50c32",
   "metadata": {},
   "outputs": [],
   "source": [
    "# Train-Test ratio - 70 - 30\n",
    "x_train, x_test, y_train, y_test = train_test_split(x_data, y_data, test_size = 0.30, random_state = 9)"
   ]
  },
  {
   "cell_type": "code",
   "execution_count": 22,
   "id": "70ceec8c-4b72-4a26-9d01-78f001ccb321",
   "metadata": {},
   "outputs": [
    {
     "name": "stdout",
     "output_type": "stream",
     "text": [
      "x_train.head()\n",
      "       Country Measure  Year Citizenship\n",
      "12901      252       1  1984           1\n",
      "4718        54       0  1981           2\n",
      "31313       64       2  1992           1\n",
      "1553        11       2  1979           2\n",
      "20305      190       2  1987           1\n",
      "\n"
     ]
    }
   ],
   "source": [
    "# Printing the heads\n",
    "print(\"x_train.head()\")\n",
    "print(x_train.head())\n",
    "print()"
   ]
  },
  {
   "cell_type": "code",
   "execution_count": 23,
   "id": "f6bdb301-7fce-488f-a4d2-5ac6082da6c3",
   "metadata": {},
   "outputs": [
    {
     "name": "stdout",
     "output_type": "stream",
     "text": [
      "x_test.head()\n",
      "       Country Measure  Year Citizenship\n",
      "79846       50       0  2014           1\n",
      "31415       98       2  1992           1\n",
      "72332       75       2  2010           2\n",
      "38475      175       2  1995           0\n",
      "55154      168       0  2003           2\n",
      "\n"
     ]
    }
   ],
   "source": [
    "# Printing the heads\n",
    "print(\"x_test.head()\")\n",
    "print(x_test.head())\n",
    "print()"
   ]
  },
  {
   "cell_type": "code",
   "execution_count": 24,
   "id": "b37ea283-923a-4f7e-aca5-37408c167f51",
   "metadata": {},
   "outputs": [
    {
     "name": "stdout",
     "output_type": "stream",
     "text": [
      "y_train.head()\n",
      "12901    2390.0\n",
      "4718      481.0\n",
      "31313       0.0\n",
      "1553        0.0\n",
      "20305       0.0\n",
      "Name: Value, dtype: float64\n",
      "\n"
     ]
    }
   ],
   "source": [
    "# Printing the heads\n",
    "print(\"y_train.head()\")\n",
    "print(y_train.head())\n",
    "print()"
   ]
  },
  {
   "cell_type": "code",
   "execution_count": 25,
   "id": "63e48b16-6112-4297-b306-c0180917c7d9",
   "metadata": {},
   "outputs": [
    {
     "name": "stdout",
     "output_type": "stream",
     "text": [
      "y_test.head()\n",
      "79846      0.0\n",
      "31415      0.0\n",
      "72332      0.0\n",
      "38475    173.0\n",
      "55154      0.0\n",
      "Name: Value, dtype: float64\n",
      "\n"
     ]
    }
   ],
   "source": [
    "# Printing the heads\n",
    "print(\"y_test.head()\")\n",
    "print(y_test.head())\n",
    "print()"
   ]
  },
  {
   "cell_type": "markdown",
   "id": "8661b6dc-6466-420b-8bc6-9622af42f3c3",
   "metadata": {},
   "source": [
    "#### \n",
    "#### Train, predict and evaluate the model performance of the Random Forest Regressor model"
   ]
  },
  {
   "cell_type": "markdown",
   "id": "0238212c-ad76-40a9-a945-69ecc38d2ec7",
   "metadata": {},
   "source": [
    "Creating the Random Forest Regressor model"
   ]
  },
  {
   "cell_type": "code",
   "execution_count": 26,
   "id": "41afae98-a356-4d9b-8378-35fc8c4f7259",
   "metadata": {},
   "outputs": [],
   "source": [
    "# Create model object\n",
    "model_rf = RandomForestRegressor(n_estimators=70, max_features=3, max_depth=5, n_jobs=-1, random_state=9)"
   ]
  },
  {
   "cell_type": "markdown",
   "id": "c8bfdbb3-5b13-427c-b166-ab105dc090e2",
   "metadata": {},
   "source": [
    "Training the Random Forest Model"
   ]
  },
  {
   "cell_type": "code",
   "execution_count": 27,
   "id": "d61d4de6-2841-4898-b1ce-96618899cf4f",
   "metadata": {},
   "outputs": [
    {
     "data": {
      "text/html": [
       "<style>#sk-container-id-1 {\n",
       "  /* Definition of color scheme common for light and dark mode */\n",
       "  --sklearn-color-text: black;\n",
       "  --sklearn-color-line: gray;\n",
       "  /* Definition of color scheme for unfitted estimators */\n",
       "  --sklearn-color-unfitted-level-0: #fff5e6;\n",
       "  --sklearn-color-unfitted-level-1: #f6e4d2;\n",
       "  --sklearn-color-unfitted-level-2: #ffe0b3;\n",
       "  --sklearn-color-unfitted-level-3: chocolate;\n",
       "  /* Definition of color scheme for fitted estimators */\n",
       "  --sklearn-color-fitted-level-0: #f0f8ff;\n",
       "  --sklearn-color-fitted-level-1: #d4ebff;\n",
       "  --sklearn-color-fitted-level-2: #b3dbfd;\n",
       "  --sklearn-color-fitted-level-3: cornflowerblue;\n",
       "\n",
       "  /* Specific color for light theme */\n",
       "  --sklearn-color-text-on-default-background: var(--sg-text-color, var(--theme-code-foreground, var(--jp-content-font-color1, black)));\n",
       "  --sklearn-color-background: var(--sg-background-color, var(--theme-background, var(--jp-layout-color0, white)));\n",
       "  --sklearn-color-border-box: var(--sg-text-color, var(--theme-code-foreground, var(--jp-content-font-color1, black)));\n",
       "  --sklearn-color-icon: #696969;\n",
       "\n",
       "  @media (prefers-color-scheme: dark) {\n",
       "    /* Redefinition of color scheme for dark theme */\n",
       "    --sklearn-color-text-on-default-background: var(--sg-text-color, var(--theme-code-foreground, var(--jp-content-font-color1, white)));\n",
       "    --sklearn-color-background: var(--sg-background-color, var(--theme-background, var(--jp-layout-color0, #111)));\n",
       "    --sklearn-color-border-box: var(--sg-text-color, var(--theme-code-foreground, var(--jp-content-font-color1, white)));\n",
       "    --sklearn-color-icon: #878787;\n",
       "  }\n",
       "}\n",
       "\n",
       "#sk-container-id-1 {\n",
       "  color: var(--sklearn-color-text);\n",
       "}\n",
       "\n",
       "#sk-container-id-1 pre {\n",
       "  padding: 0;\n",
       "}\n",
       "\n",
       "#sk-container-id-1 input.sk-hidden--visually {\n",
       "  border: 0;\n",
       "  clip: rect(1px 1px 1px 1px);\n",
       "  clip: rect(1px, 1px, 1px, 1px);\n",
       "  height: 1px;\n",
       "  margin: -1px;\n",
       "  overflow: hidden;\n",
       "  padding: 0;\n",
       "  position: absolute;\n",
       "  width: 1px;\n",
       "}\n",
       "\n",
       "#sk-container-id-1 div.sk-dashed-wrapped {\n",
       "  border: 1px dashed var(--sklearn-color-line);\n",
       "  margin: 0 0.4em 0.5em 0.4em;\n",
       "  box-sizing: border-box;\n",
       "  padding-bottom: 0.4em;\n",
       "  background-color: var(--sklearn-color-background);\n",
       "}\n",
       "\n",
       "#sk-container-id-1 div.sk-container {\n",
       "  /* jupyter's `normalize.less` sets `[hidden] { display: none; }`\n",
       "     but bootstrap.min.css set `[hidden] { display: none !important; }`\n",
       "     so we also need the `!important` here to be able to override the\n",
       "     default hidden behavior on the sphinx rendered scikit-learn.org.\n",
       "     See: https://github.com/scikit-learn/scikit-learn/issues/21755 */\n",
       "  display: inline-block !important;\n",
       "  position: relative;\n",
       "}\n",
       "\n",
       "#sk-container-id-1 div.sk-text-repr-fallback {\n",
       "  display: none;\n",
       "}\n",
       "\n",
       "div.sk-parallel-item,\n",
       "div.sk-serial,\n",
       "div.sk-item {\n",
       "  /* draw centered vertical line to link estimators */\n",
       "  background-image: linear-gradient(var(--sklearn-color-text-on-default-background), var(--sklearn-color-text-on-default-background));\n",
       "  background-size: 2px 100%;\n",
       "  background-repeat: no-repeat;\n",
       "  background-position: center center;\n",
       "}\n",
       "\n",
       "/* Parallel-specific style estimator block */\n",
       "\n",
       "#sk-container-id-1 div.sk-parallel-item::after {\n",
       "  content: \"\";\n",
       "  width: 100%;\n",
       "  border-bottom: 2px solid var(--sklearn-color-text-on-default-background);\n",
       "  flex-grow: 1;\n",
       "}\n",
       "\n",
       "#sk-container-id-1 div.sk-parallel {\n",
       "  display: flex;\n",
       "  align-items: stretch;\n",
       "  justify-content: center;\n",
       "  background-color: var(--sklearn-color-background);\n",
       "  position: relative;\n",
       "}\n",
       "\n",
       "#sk-container-id-1 div.sk-parallel-item {\n",
       "  display: flex;\n",
       "  flex-direction: column;\n",
       "}\n",
       "\n",
       "#sk-container-id-1 div.sk-parallel-item:first-child::after {\n",
       "  align-self: flex-end;\n",
       "  width: 50%;\n",
       "}\n",
       "\n",
       "#sk-container-id-1 div.sk-parallel-item:last-child::after {\n",
       "  align-self: flex-start;\n",
       "  width: 50%;\n",
       "}\n",
       "\n",
       "#sk-container-id-1 div.sk-parallel-item:only-child::after {\n",
       "  width: 0;\n",
       "}\n",
       "\n",
       "/* Serial-specific style estimator block */\n",
       "\n",
       "#sk-container-id-1 div.sk-serial {\n",
       "  display: flex;\n",
       "  flex-direction: column;\n",
       "  align-items: center;\n",
       "  background-color: var(--sklearn-color-background);\n",
       "  padding-right: 1em;\n",
       "  padding-left: 1em;\n",
       "}\n",
       "\n",
       "\n",
       "/* Toggleable style: style used for estimator/Pipeline/ColumnTransformer box that is\n",
       "clickable and can be expanded/collapsed.\n",
       "- Pipeline and ColumnTransformer use this feature and define the default style\n",
       "- Estimators will overwrite some part of the style using the `sk-estimator` class\n",
       "*/\n",
       "\n",
       "/* Pipeline and ColumnTransformer style (default) */\n",
       "\n",
       "#sk-container-id-1 div.sk-toggleable {\n",
       "  /* Default theme specific background. It is overwritten whether we have a\n",
       "  specific estimator or a Pipeline/ColumnTransformer */\n",
       "  background-color: var(--sklearn-color-background);\n",
       "}\n",
       "\n",
       "/* Toggleable label */\n",
       "#sk-container-id-1 label.sk-toggleable__label {\n",
       "  cursor: pointer;\n",
       "  display: block;\n",
       "  width: 100%;\n",
       "  margin-bottom: 0;\n",
       "  padding: 0.5em;\n",
       "  box-sizing: border-box;\n",
       "  text-align: center;\n",
       "}\n",
       "\n",
       "#sk-container-id-1 label.sk-toggleable__label-arrow:before {\n",
       "  /* Arrow on the left of the label */\n",
       "  content: \"▸\";\n",
       "  float: left;\n",
       "  margin-right: 0.25em;\n",
       "  color: var(--sklearn-color-icon);\n",
       "}\n",
       "\n",
       "#sk-container-id-1 label.sk-toggleable__label-arrow:hover:before {\n",
       "  color: var(--sklearn-color-text);\n",
       "}\n",
       "\n",
       "/* Toggleable content - dropdown */\n",
       "\n",
       "#sk-container-id-1 div.sk-toggleable__content {\n",
       "  max-height: 0;\n",
       "  max-width: 0;\n",
       "  overflow: hidden;\n",
       "  text-align: left;\n",
       "  /* unfitted */\n",
       "  background-color: var(--sklearn-color-unfitted-level-0);\n",
       "}\n",
       "\n",
       "#sk-container-id-1 div.sk-toggleable__content.fitted {\n",
       "  /* fitted */\n",
       "  background-color: var(--sklearn-color-fitted-level-0);\n",
       "}\n",
       "\n",
       "#sk-container-id-1 div.sk-toggleable__content pre {\n",
       "  margin: 0.2em;\n",
       "  border-radius: 0.25em;\n",
       "  color: var(--sklearn-color-text);\n",
       "  /* unfitted */\n",
       "  background-color: var(--sklearn-color-unfitted-level-0);\n",
       "}\n",
       "\n",
       "#sk-container-id-1 div.sk-toggleable__content.fitted pre {\n",
       "  /* unfitted */\n",
       "  background-color: var(--sklearn-color-fitted-level-0);\n",
       "}\n",
       "\n",
       "#sk-container-id-1 input.sk-toggleable__control:checked~div.sk-toggleable__content {\n",
       "  /* Expand drop-down */\n",
       "  max-height: 200px;\n",
       "  max-width: 100%;\n",
       "  overflow: auto;\n",
       "}\n",
       "\n",
       "#sk-container-id-1 input.sk-toggleable__control:checked~label.sk-toggleable__label-arrow:before {\n",
       "  content: \"▾\";\n",
       "}\n",
       "\n",
       "/* Pipeline/ColumnTransformer-specific style */\n",
       "\n",
       "#sk-container-id-1 div.sk-label input.sk-toggleable__control:checked~label.sk-toggleable__label {\n",
       "  color: var(--sklearn-color-text);\n",
       "  background-color: var(--sklearn-color-unfitted-level-2);\n",
       "}\n",
       "\n",
       "#sk-container-id-1 div.sk-label.fitted input.sk-toggleable__control:checked~label.sk-toggleable__label {\n",
       "  background-color: var(--sklearn-color-fitted-level-2);\n",
       "}\n",
       "\n",
       "/* Estimator-specific style */\n",
       "\n",
       "/* Colorize estimator box */\n",
       "#sk-container-id-1 div.sk-estimator input.sk-toggleable__control:checked~label.sk-toggleable__label {\n",
       "  /* unfitted */\n",
       "  background-color: var(--sklearn-color-unfitted-level-2);\n",
       "}\n",
       "\n",
       "#sk-container-id-1 div.sk-estimator.fitted input.sk-toggleable__control:checked~label.sk-toggleable__label {\n",
       "  /* fitted */\n",
       "  background-color: var(--sklearn-color-fitted-level-2);\n",
       "}\n",
       "\n",
       "#sk-container-id-1 div.sk-label label.sk-toggleable__label,\n",
       "#sk-container-id-1 div.sk-label label {\n",
       "  /* The background is the default theme color */\n",
       "  color: var(--sklearn-color-text-on-default-background);\n",
       "}\n",
       "\n",
       "/* On hover, darken the color of the background */\n",
       "#sk-container-id-1 div.sk-label:hover label.sk-toggleable__label {\n",
       "  color: var(--sklearn-color-text);\n",
       "  background-color: var(--sklearn-color-unfitted-level-2);\n",
       "}\n",
       "\n",
       "/* Label box, darken color on hover, fitted */\n",
       "#sk-container-id-1 div.sk-label.fitted:hover label.sk-toggleable__label.fitted {\n",
       "  color: var(--sklearn-color-text);\n",
       "  background-color: var(--sklearn-color-fitted-level-2);\n",
       "}\n",
       "\n",
       "/* Estimator label */\n",
       "\n",
       "#sk-container-id-1 div.sk-label label {\n",
       "  font-family: monospace;\n",
       "  font-weight: bold;\n",
       "  display: inline-block;\n",
       "  line-height: 1.2em;\n",
       "}\n",
       "\n",
       "#sk-container-id-1 div.sk-label-container {\n",
       "  text-align: center;\n",
       "}\n",
       "\n",
       "/* Estimator-specific */\n",
       "#sk-container-id-1 div.sk-estimator {\n",
       "  font-family: monospace;\n",
       "  border: 1px dotted var(--sklearn-color-border-box);\n",
       "  border-radius: 0.25em;\n",
       "  box-sizing: border-box;\n",
       "  margin-bottom: 0.5em;\n",
       "  /* unfitted */\n",
       "  background-color: var(--sklearn-color-unfitted-level-0);\n",
       "}\n",
       "\n",
       "#sk-container-id-1 div.sk-estimator.fitted {\n",
       "  /* fitted */\n",
       "  background-color: var(--sklearn-color-fitted-level-0);\n",
       "}\n",
       "\n",
       "/* on hover */\n",
       "#sk-container-id-1 div.sk-estimator:hover {\n",
       "  /* unfitted */\n",
       "  background-color: var(--sklearn-color-unfitted-level-2);\n",
       "}\n",
       "\n",
       "#sk-container-id-1 div.sk-estimator.fitted:hover {\n",
       "  /* fitted */\n",
       "  background-color: var(--sklearn-color-fitted-level-2);\n",
       "}\n",
       "\n",
       "/* Specification for estimator info (e.g. \"i\" and \"?\") */\n",
       "\n",
       "/* Common style for \"i\" and \"?\" */\n",
       "\n",
       ".sk-estimator-doc-link,\n",
       "a:link.sk-estimator-doc-link,\n",
       "a:visited.sk-estimator-doc-link {\n",
       "  float: right;\n",
       "  font-size: smaller;\n",
       "  line-height: 1em;\n",
       "  font-family: monospace;\n",
       "  background-color: var(--sklearn-color-background);\n",
       "  border-radius: 1em;\n",
       "  height: 1em;\n",
       "  width: 1em;\n",
       "  text-decoration: none !important;\n",
       "  margin-left: 1ex;\n",
       "  /* unfitted */\n",
       "  border: var(--sklearn-color-unfitted-level-1) 1pt solid;\n",
       "  color: var(--sklearn-color-unfitted-level-1);\n",
       "}\n",
       "\n",
       ".sk-estimator-doc-link.fitted,\n",
       "a:link.sk-estimator-doc-link.fitted,\n",
       "a:visited.sk-estimator-doc-link.fitted {\n",
       "  /* fitted */\n",
       "  border: var(--sklearn-color-fitted-level-1) 1pt solid;\n",
       "  color: var(--sklearn-color-fitted-level-1);\n",
       "}\n",
       "\n",
       "/* On hover */\n",
       "div.sk-estimator:hover .sk-estimator-doc-link:hover,\n",
       ".sk-estimator-doc-link:hover,\n",
       "div.sk-label-container:hover .sk-estimator-doc-link:hover,\n",
       ".sk-estimator-doc-link:hover {\n",
       "  /* unfitted */\n",
       "  background-color: var(--sklearn-color-unfitted-level-3);\n",
       "  color: var(--sklearn-color-background);\n",
       "  text-decoration: none;\n",
       "}\n",
       "\n",
       "div.sk-estimator.fitted:hover .sk-estimator-doc-link.fitted:hover,\n",
       ".sk-estimator-doc-link.fitted:hover,\n",
       "div.sk-label-container:hover .sk-estimator-doc-link.fitted:hover,\n",
       ".sk-estimator-doc-link.fitted:hover {\n",
       "  /* fitted */\n",
       "  background-color: var(--sklearn-color-fitted-level-3);\n",
       "  color: var(--sklearn-color-background);\n",
       "  text-decoration: none;\n",
       "}\n",
       "\n",
       "/* Span, style for the box shown on hovering the info icon */\n",
       ".sk-estimator-doc-link span {\n",
       "  display: none;\n",
       "  z-index: 9999;\n",
       "  position: relative;\n",
       "  font-weight: normal;\n",
       "  right: .2ex;\n",
       "  padding: .5ex;\n",
       "  margin: .5ex;\n",
       "  width: min-content;\n",
       "  min-width: 20ex;\n",
       "  max-width: 50ex;\n",
       "  color: var(--sklearn-color-text);\n",
       "  box-shadow: 2pt 2pt 4pt #999;\n",
       "  /* unfitted */\n",
       "  background: var(--sklearn-color-unfitted-level-0);\n",
       "  border: .5pt solid var(--sklearn-color-unfitted-level-3);\n",
       "}\n",
       "\n",
       ".sk-estimator-doc-link.fitted span {\n",
       "  /* fitted */\n",
       "  background: var(--sklearn-color-fitted-level-0);\n",
       "  border: var(--sklearn-color-fitted-level-3);\n",
       "}\n",
       "\n",
       ".sk-estimator-doc-link:hover span {\n",
       "  display: block;\n",
       "}\n",
       "\n",
       "/* \"?\"-specific style due to the `<a>` HTML tag */\n",
       "\n",
       "#sk-container-id-1 a.estimator_doc_link {\n",
       "  float: right;\n",
       "  font-size: 1rem;\n",
       "  line-height: 1em;\n",
       "  font-family: monospace;\n",
       "  background-color: var(--sklearn-color-background);\n",
       "  border-radius: 1rem;\n",
       "  height: 1rem;\n",
       "  width: 1rem;\n",
       "  text-decoration: none;\n",
       "  /* unfitted */\n",
       "  color: var(--sklearn-color-unfitted-level-1);\n",
       "  border: var(--sklearn-color-unfitted-level-1) 1pt solid;\n",
       "}\n",
       "\n",
       "#sk-container-id-1 a.estimator_doc_link.fitted {\n",
       "  /* fitted */\n",
       "  border: var(--sklearn-color-fitted-level-1) 1pt solid;\n",
       "  color: var(--sklearn-color-fitted-level-1);\n",
       "}\n",
       "\n",
       "/* On hover */\n",
       "#sk-container-id-1 a.estimator_doc_link:hover {\n",
       "  /* unfitted */\n",
       "  background-color: var(--sklearn-color-unfitted-level-3);\n",
       "  color: var(--sklearn-color-background);\n",
       "  text-decoration: none;\n",
       "}\n",
       "\n",
       "#sk-container-id-1 a.estimator_doc_link.fitted:hover {\n",
       "  /* fitted */\n",
       "  background-color: var(--sklearn-color-fitted-level-3);\n",
       "}\n",
       "</style><div id=\"sk-container-id-1\" class=\"sk-top-container\"><div class=\"sk-text-repr-fallback\"><pre>RandomForestRegressor(max_depth=5, max_features=3, n_estimators=70, n_jobs=-1,\n",
       "                      random_state=9)</pre><b>In a Jupyter environment, please rerun this cell to show the HTML representation or trust the notebook. <br />On GitHub, the HTML representation is unable to render, please try loading this page with nbviewer.org.</b></div><div class=\"sk-container\" hidden><div class=\"sk-item\"><div class=\"sk-estimator fitted sk-toggleable\"><input class=\"sk-toggleable__control sk-hidden--visually\" id=\"sk-estimator-id-1\" type=\"checkbox\" checked><label for=\"sk-estimator-id-1\" class=\"sk-toggleable__label fitted sk-toggleable__label-arrow fitted\">&nbsp;&nbsp;RandomForestRegressor<a class=\"sk-estimator-doc-link fitted\" rel=\"noreferrer\" target=\"_blank\" href=\"https://scikit-learn.org/1.5/modules/generated/sklearn.ensemble.RandomForestRegressor.html\">?<span>Documentation for RandomForestRegressor</span></a><span class=\"sk-estimator-doc-link fitted\">i<span>Fitted</span></span></label><div class=\"sk-toggleable__content fitted\"><pre>RandomForestRegressor(max_depth=5, max_features=3, n_estimators=70, n_jobs=-1,\n",
       "                      random_state=9)</pre></div> </div></div></div></div>"
      ],
      "text/plain": [
       "RandomForestRegressor(max_depth=5, max_features=3, n_estimators=70, n_jobs=-1,\n",
       "                      random_state=9)"
      ]
     },
     "execution_count": 27,
     "metadata": {},
     "output_type": "execute_result"
    }
   ],
   "source": [
    "# Train the model on the training data\n",
    "model_rf.fit(x_train, y_train)"
   ]
  },
  {
   "cell_type": "markdown",
   "id": "ccfe0007-2979-4900-80db-64037758ea10",
   "metadata": {},
   "source": [
    "Cross validating the model on the 70% data.\n",
    "We are performing k-fold cross validation with k=5"
   ]
  },
  {
   "cell_type": "code",
   "execution_count": 28,
   "id": "088044b1-53e7-4a8c-8d10-73404602b151",
   "metadata": {},
   "outputs": [
    {
     "name": "stdout",
     "output_type": "stream",
     "text": [
      "Cross-validation R^2 scores: [0.71054202 0.78209041 0.73809362 0.78369157 0.70487952]\n",
      "Average Cross-validation R^2: 0.7438594286870888\n"
     ]
    }
   ],
   "source": [
    "# Cross-validation (optional, adds validation to the model)\n",
    "cv_scores = cross_val_score(model_rf, x_train, y_train, cv=5, scoring='r2')  # 5-fold cross-validation\n",
    "print(f\"Cross-validation R^2 scores: {cv_scores}\")\n",
    "print(f\"Average Cross-validation R^2: {np.mean(cv_scores)}\")"
   ]
  },
  {
   "cell_type": "code",
   "execution_count": 29,
   "id": "3e60e8ae-0bb1-44f8-a8fb-a3173f65c28a",
   "metadata": {},
   "outputs": [],
   "source": [
    "# Make predictions on the test data\n",
    "predictions_rf = model_rf.predict(x_test)"
   ]
  },
  {
   "cell_type": "code",
   "execution_count": 30,
   "id": "ae6278fa-a9ef-4105-b618-364246d4227c",
   "metadata": {},
   "outputs": [
    {
     "name": "stdout",
     "output_type": "stream",
     "text": [
      "Mean Squared Error on Test Data: 2576120.379848502\n",
      "R^2 Score on Test Data: 0.7364129460492308\n"
     ]
    }
   ],
   "source": [
    "# Model performance evaluation\n",
    "mse = mean_squared_error(y_test, predictions_rf)\n",
    "print(f\"Mean Squared Error on Test Data: {mse}\")\n",
    "print(f\"R^2 Score on Test Data: {model_rf.score(x_test, y_test)}\")"
   ]
  },
  {
   "cell_type": "markdown",
   "id": "e7ae894a-cdb3-4f9d-83c2-f92f8dc824cc",
   "metadata": {},
   "source": [
    "####  \n",
    "### Visualizing the number of migrants per year in a Line and a Bar graph"
   ]
  },
  {
   "cell_type": "code",
   "execution_count": 31,
   "id": "8187b557-6b90-4369-af8d-64b1f88b866d",
   "metadata": {},
   "outputs": [
    {
     "data": {
      "image/png": "[encoded data removed]",
      "text/plain": [
       "<Figure size 900x500 with 1 Axes>"
      ]
     },
     "metadata": {},
     "output_type": "display_data"
    }
   ],
   "source": [
    " # Visualize number of migrations by year in a line graph.\n",
    " grouped = data.groupby(['Year']).aggregate({'Value' : \n",
    "'sum'}).reset_index()\n",
    " grouped = grouped.astype(int)\n",
    " plt.figure(figsize=(9,5))\n",
    " plt.plot(grouped['Year'], grouped['Value'], color='darkblue',  \n",
    "marker='o')\n",
    " plt.ticklabel_format(style='plain')\n",
    " plt.xlabel('Year', fontsize=12)\n",
    " plt.ylabel('Values', fontsize=12)\n",
    " plt.title('Values by Year', fontsize=15)\n",
    " plt.grid()\n",
    " plt.show()"
   ]
  },
  {
   "cell_type": "code",
   "execution_count": 32,
   "id": "2cddeb38-36d5-4ff4-8b71-683ee5b42552",
   "metadata": {},
   "outputs": [
    {
     "data": {
      "image/png": "[encoded data removed]",
      "text/plain": [
       "<Figure size 900x500 with 1 Axes>"
      ]
     },
     "metadata": {},
     "output_type": "display_data"
    }
   ],
   "source": [
    "plt.figure(figsize=(9, 5))\n",
    "plt.ticklabel_format(style='plain')\n",
    "\n",
    "# Corrected barplot function syntax\n",
    "ax = sns.barplot(x=grouped['Year'], y=grouped['Value'], color='darkblue')\n",
    "\n",
    "# Rotate the x-axis labels using plt.xticks()\n",
    "plt.xticks(rotation=90, size=10)\n",
    "\n",
    "# Set labels and title\n",
    "plt.xlabel('Date', fontsize=12)\n",
    "plt.ylabel('Values', fontsize=12)\n",
    "plt.title('Values by Year', fontsize=15)\n",
    "\n",
    "plt.show()"
   ]
  },
  {
   "cell_type": "markdown",
   "id": "337219d5-3608-4bda-956d-1dff99f6de74",
   "metadata": {},
   "source": [
    "#### Part for giving input to the code"
   ]
  },
  {
   "cell_type": "markdown",
   "id": "cba145e1-50ed-4707-b3b9-3b3567cc00cc",
   "metadata": {},
   "source": [
    "The following function takes input for the GUI in the order of\n",
    "1. Measure\n",
    "2. Country\n",
    "3. Citizenship\n",
    "4. Year"
   ]
  },
  {
   "cell_type": "code",
   "execution_count": 33,
   "id": "f5b5f547-d710-4c7d-b982-dd5b8aa6c095",
   "metadata": {},
   "outputs": [],
   "source": [
    "# GUI Function for Prediction\n",
    "def predict_migration():\n",
    "    try:\n",
    "        # Collecting user input\n",
    "        measure = int(measure_entry.get())\n",
    "        country = country_entry.get()\n",
    "        citizenship = int(citizenship_entry.get())\n",
    "        year = int(year_entry.get())\n",
    "        \n",
    "        # Encoding country\n",
    "        country_encoded = pd.factorize(data['Country'])[0][data['Country'] == country].values[0] if country in data['Country'].values else 0\n",
    "        \n",
    "        # Preparing input data for prediction\n",
    "        input_data = pd.DataFrame([[country_encoded, measure, year, citizenship]], columns=['Country', 'Measure', 'Year', 'Citizenship'])\n",
    "        \n",
    "        # Prediction and display with smooth color transition\n",
    "        prediction = model_rf.predict(input_data)\n",
    "        result_text = f\"Predicted number of migrants: {prediction[0]:.2f}\"\n",
    "        display_prediction(result_text)\n",
    "    except Exception as e:\n",
    "        messagebox.showerror(\"Error\", f\"Error in prediction: {str(e)}\")"
   ]
  },
  {
   "cell_type": "markdown",
   "id": "fdd7ecad-27d5-4934-83e3-27b5a4cf82a9",
   "metadata": {},
   "source": [
    "####\n",
    "Calling the function and showing the prediction for the provided input\n",
    "using Tkinter GUI"
   ]
  },
  {
   "cell_type": "code",
   "execution_count": 34,
   "id": "b0a8daad-cf73-4167-a5c3-15b4dd76ac81",
   "metadata": {},
   "outputs": [],
   "source": [
    "def display_prediction(text, delay=50, color_value=0):\n",
    "    if color_value <= 200:  # Slowly change color to a brighter shade\n",
    "        color = f\"#{color_value:02x}{color_value:02x}ff\"\n",
    "        result_label.config(text=text, fg=color)\n",
    "        root.after(delay, display_prediction, text, delay, color_value + 5)\n",
    "    else:  # Hold the color at bright blue\n",
    "        result_label.config(text=text, fg=\"#0000ff\")"
   ]
  },
  {
   "cell_type": "markdown",
   "id": "30ace2e4-611f-4c46-bec7-a4c6739fc2c8",
   "metadata": {},
   "source": [
    "####\n",
    "#### GUI Setup"
   ]
  },
  {
   "cell_type": "code",
   "execution_count": 35,
   "id": "2f89f59c-c92c-4573-bbfe-5cd4986c5bf9",
   "metadata": {},
   "outputs": [],
   "source": [
    "# GUI Design Setup\n",
    "root = tk.Tk()\n",
    "root.title(\"Migration Prediction\")\n",
    "root.geometry(\"550x450\")\n",
    "root.configure(bg=\"#f0f5f9\")\n",
    "\n",
    "# Custom Fonts\n",
    "title_font = font.Font(family=\"Helvetica\", size=18, weight=\"bold\")\n",
    "label_font = font.Font(family=\"Helvetica\", size=12)\n",
    "entry_font = font.Font(family=\"Helvetica\", size=10)\n",
    "\n",
    "# Title\n",
    "title_label = tk.Label(root, text=\"Migration Prediction Tool\", font=title_font, bg=\"#f0f5f9\", fg=\"#003366\")\n",
    "title_label.grid(row=0, column=0, columnspan=2, pady=20)\n",
    "\n",
    "# Labels and Entry Widgets with Centered Grid Layout\n",
    "tk.Label(root, text=\"Measure (0: Arrivals, 1: Departures, 2: Net):\", font=label_font, bg=\"#f0f5f9\", fg=\"#003366\").grid(row=1, column=0, padx=10, pady=10, sticky=\"e\")\n",
    "measure_entry = tk.Entry(root, font=entry_font, width=30, bg=\"#ffffff\", fg=\"#333333\", relief=\"solid\", borderwidth=1)\n",
    "measure_entry.grid(row=1, column=1, padx=10, pady=10)\n",
    "\n",
    "tk.Label(root, text=\"Country (e.g., Australia):\", font=label_font, bg=\"#f0f5f9\", fg=\"#003366\").grid(row=2, column=0, padx=10, pady=10, sticky=\"e\")\n",
    "country_entry = tk.Entry(root, font=entry_font, width=30, bg=\"#ffffff\", fg=\"#333333\", relief=\"solid\", borderwidth=1)\n",
    "country_entry.grid(row=2, column=1, padx=10, pady=10)\n",
    "\n",
    "tk.Label(root, text=\"Citizenship (0: NZ, 1: AUS, 2: All):\", font=label_font, bg=\"#f0f5f9\", fg=\"#003366\").grid(row=3, column=0, padx=10, pady=10, sticky=\"e\")\n",
    "citizenship_entry = tk.Entry(root, font=entry_font, width=30, bg=\"#ffffff\", fg=\"#333333\", relief=\"solid\", borderwidth=1)\n",
    "citizenship_entry.grid(row=3, column=1, padx=10, pady=10)\n",
    "\n",
    "tk.Label(root, text=\"Year (e.g., 2020):\", font=label_font, bg=\"#f0f5f9\", fg=\"#003366\").grid(row=4, column=0, padx=10, pady=10, sticky=\"e\")\n",
    "year_entry = tk.Entry(root, font=entry_font, width=30, bg=\"#ffffff\", fg=\"#333333\", relief=\"solid\", borderwidth=1)\n",
    "year_entry.grid(row=4, column=1, padx=10, pady=10)\n",
    "\n",
    "# Predict Button with Hover Effect\n",
    "def on_enter(e):\n",
    "    predict_button.config(bg=\"#004080\", fg=\"white\")\n",
    "\n",
    "def on_leave(e):\n",
    "    predict_button.config(bg=\"#0059b3\", fg=\"white\")\n",
    "\n",
    "predict_button = tk.Button(root, text=\"Predict Migration\", font=label_font, bg=\"#0059b3\", fg=\"white\", command=predict_migration, relief=\"solid\", borderwidth=1)\n",
    "predict_button.grid(row=5, column=0, columnspan=2, pady=20)\n",
    "predict_button.bind(\"<Enter>\", on_enter)\n",
    "predict_button.bind(\"<Leave>\", on_leave)\n",
    "\n",
    "# Result Display\n",
    "result_label = tk.Label(root, text=\"\", font=label_font, bg=\"#f0f5f9\")\n",
    "result_label.grid(row=6, column=0, columnspan=2, pady=10)"
   ]
  },
  {
   "cell_type": "markdown",
   "id": "072b1ca3-9769-4df4-a263-d3551ab6b333",
   "metadata": {},
   "source": [
    "####\n",
    "#### Running the Application"
   ]
  },
  {
   "cell_type": "code",
   "execution_count": 36,
   "id": "f501e8f8-a60a-4499-856c-66fc6db779bb",
   "metadata": {},
   "outputs": [],
   "source": [
    "# Run the application\n",
    "root.mainloop()"
   ]
  },
  {
   "cell_type": "markdown",
   "id": "68439ccd-1113-439f-bbdc-89819ed1f8de",
   "metadata": {},
   "source": [
    "###\n",
    "### Conclusion"
   ]
  },
  {
   "cell_type": "markdown",
   "id": "0758f771-18bc-4fa2-bd8c-17d81eb0bd2b",
   "metadata": {},
   "source": [
    "The Random Forest Regressor model achieved a 74% accuracy rate in predicting migration patterns between countries. Overall, the data indicates a gradual increase in migration over time, which is consistent with findings reported by the World Economic Forum. Enhancing the model's accuracy may be possible by expanding the dataset with additional features and optimizing hyperparameters for better perfomance."
   ]
  },
  {
   "cell_type": "markdown",
   "id": "c4f4277f-d457-4781-9eda-c0deafa6526e",
   "metadata": {},
   "source": [
    "####\n",
    "####\n",
    "####\n",
    "####\n",
    "####\n",
    "####\n",
    "####\n",
    "####\n",
    "####\n",
    "####\n",
    "####\n",
    "The GUI allows users to input various details and receive a prediction for the estimated number of migrants.\n",
    "The test run below demonstrates the predicted number of Australian citizens leaving New Zealand for India in 2025."
   ]
  },
  {
   "cell_type": "markdown",
   "id": "b6338564-f7da-4ec2-b29b-ea1b124fdb4d",
   "metadata": {},
   "source": [
    "####\n",
    "####\n",
    "####\n",
    "####\n",
    "##### Vadisetti Pranay Satvik Reddy\n",
    "##### 2201221"
   ]
  }
 ],
 "metadata": {
  "kernelspec": {
   "display_name": "Python 3 (ipykernel)",
   "language": "python",
   "name": "python3"
  },
  "language_info": {
   "codemirror_mode": {
    "name": "ipython",
    "version": 3
   },
   "file_extension": ".py",
   "mimetype": "text/x-python",
   "name": "python",
   "nbconvert_exporter": "python",
   "pygments_lexer": "ipython3",
   "version": "3.12.1"
  }
 },
 "nbformat": 4,
 "nbformat_minor": 5
}
